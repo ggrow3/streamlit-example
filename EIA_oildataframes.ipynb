{
 "cells": [
  {
   "cell_type": "code",
   "execution_count": 10,
   "metadata": {},
   "outputs": [],
   "source": [
    "from numpy import datetime64\n",
    "import pandas as pd"
   ]
  },
  {
   "cell_type": "code",
   "execution_count": null,
   "metadata": {},
   "outputs": [],
   "source": [
    "import altair as alt\n",
    "from vega_datasets import data\n",
    "\n",
    "source = data.stocks()\n",
    "\n",
    "alt.Chart(source).mark_line().encode(\n",
    "    x='date',\n",
    "    y='price',\n",
    "    color='symbol',\n",
    "    strokeDash='symbol',\n",
    ")"
   ]
  },
  {
   "cell_type": "code",
   "execution_count": 7,
   "metadata": {},
   "outputs": [
    {
     "data": {
      "text/html": [
       "<div>\n",
       "<style scoped>\n",
       "    .dataframe tbody tr th:only-of-type {\n",
       "        vertical-align: middle;\n",
       "    }\n",
       "\n",
       "    .dataframe tbody tr th {\n",
       "        vertical-align: top;\n",
       "    }\n",
       "\n",
       "    .dataframe thead th {\n",
       "        text-align: right;\n",
       "    }\n",
       "</style>\n",
       "<table border=\"1\" class=\"dataframe\">\n",
       "  <thead>\n",
       "    <tr style=\"text-align: right;\">\n",
       "      <th></th>\n",
       "      <th>symbol</th>\n",
       "      <th>date</th>\n",
       "      <th>price</th>\n",
       "    </tr>\n",
       "  </thead>\n",
       "  <tbody>\n",
       "    <tr>\n",
       "      <th>0</th>\n",
       "      <td>MSFT</td>\n",
       "      <td>2000-01-01</td>\n",
       "      <td>39.81</td>\n",
       "    </tr>\n",
       "    <tr>\n",
       "      <th>1</th>\n",
       "      <td>MSFT</td>\n",
       "      <td>2000-02-01</td>\n",
       "      <td>36.35</td>\n",
       "    </tr>\n",
       "    <tr>\n",
       "      <th>2</th>\n",
       "      <td>MSFT</td>\n",
       "      <td>2000-03-01</td>\n",
       "      <td>43.22</td>\n",
       "    </tr>\n",
       "    <tr>\n",
       "      <th>3</th>\n",
       "      <td>MSFT</td>\n",
       "      <td>2000-04-01</td>\n",
       "      <td>28.37</td>\n",
       "    </tr>\n",
       "    <tr>\n",
       "      <th>4</th>\n",
       "      <td>MSFT</td>\n",
       "      <td>2000-05-01</td>\n",
       "      <td>25.45</td>\n",
       "    </tr>\n",
       "    <tr>\n",
       "      <th>...</th>\n",
       "      <td>...</td>\n",
       "      <td>...</td>\n",
       "      <td>...</td>\n",
       "    </tr>\n",
       "    <tr>\n",
       "      <th>555</th>\n",
       "      <td>AAPL</td>\n",
       "      <td>2009-11-01</td>\n",
       "      <td>199.91</td>\n",
       "    </tr>\n",
       "    <tr>\n",
       "      <th>556</th>\n",
       "      <td>AAPL</td>\n",
       "      <td>2009-12-01</td>\n",
       "      <td>210.73</td>\n",
       "    </tr>\n",
       "    <tr>\n",
       "      <th>557</th>\n",
       "      <td>AAPL</td>\n",
       "      <td>2010-01-01</td>\n",
       "      <td>192.06</td>\n",
       "    </tr>\n",
       "    <tr>\n",
       "      <th>558</th>\n",
       "      <td>AAPL</td>\n",
       "      <td>2010-02-01</td>\n",
       "      <td>204.62</td>\n",
       "    </tr>\n",
       "    <tr>\n",
       "      <th>559</th>\n",
       "      <td>AAPL</td>\n",
       "      <td>2010-03-01</td>\n",
       "      <td>223.02</td>\n",
       "    </tr>\n",
       "  </tbody>\n",
       "</table>\n",
       "<p>560 rows × 3 columns</p>\n",
       "</div>"
      ],
      "text/plain": [
       "    symbol       date   price\n",
       "0     MSFT 2000-01-01   39.81\n",
       "1     MSFT 2000-02-01   36.35\n",
       "2     MSFT 2000-03-01   43.22\n",
       "3     MSFT 2000-04-01   28.37\n",
       "4     MSFT 2000-05-01   25.45\n",
       "..     ...        ...     ...\n",
       "555   AAPL 2009-11-01  199.91\n",
       "556   AAPL 2009-12-01  210.73\n",
       "557   AAPL 2010-01-01  192.06\n",
       "558   AAPL 2010-02-01  204.62\n",
       "559   AAPL 2010-03-01  223.02\n",
       "\n",
       "[560 rows x 3 columns]"
      ]
     },
     "execution_count": 7,
     "metadata": {},
     "output_type": "execute_result"
    }
   ],
   "source": [
    "data.stocks()"
   ]
  },
  {
   "cell_type": "code",
   "execution_count": null,
   "metadata": {},
   "outputs": [],
   "source": []
  },
  {
   "cell_type": "code",
   "execution_count": 11,
   "metadata": {},
   "outputs": [],
   "source": [
    "#File is from https://www.eia.gov/petroleum/\n",
    "xls_file = \"PET_PRI_SPT_S1_D.xls\"\n",
    "xls = pd.ExcelFile(xls_file)\n",
    "df_crude_oil = pd.read_excel(xls, 'Data 1')\n",
    "df_conv_gas = pd.read_excel(xls, 'Data 2')\n",
    "df_reg_gas = pd.read_excel(xls, 'Data 3')\n",
    "df_heating_oil = pd.read_excel(xls, 'Data 4')\n",
    "df_diesel_fuel = pd.read_excel(xls, 'Data 5')\n",
    "df_kerosene= pd.read_excel(xls, 'Data 6')\n",
    "df_propane = pd.read_excel(xls, 'Data 7')\n",
    "\n",
    "\n"
   ]
  },
  {
   "cell_type": "code",
   "execution_count": 18,
   "metadata": {},
   "outputs": [],
   "source": [
    "dict_crude_oil = {'date': df_crude_oil.iloc[2:,0], 'oil price $, US Cushing OK':df_crude_oil.iloc[2:,1], 'oil price $, Europe':df_crude_oil.iloc[2:,1]}\n",
    "df_crude_oil = pd.DataFrame(dict_crude_oil)"
   ]
  },
  {
   "cell_type": "code",
   "execution_count": 23,
   "metadata": {},
   "outputs": [
    {
     "ename": "AttributeError",
     "evalue": "'DataFrame' object has no attribute 'summary'",
     "output_type": "error",
     "traceback": [
      "\u001b[1;31m---------------------------------------------------------------------------\u001b[0m",
      "\u001b[1;31mAttributeError\u001b[0m                            Traceback (most recent call last)",
      "\u001b[1;32mc:\\Users\\kevja\\OneDrive\\Desktop\\Repos\\streamlit-example\\EIA_oildataframes.ipynb Cell 7'\u001b[0m in \u001b[0;36m<cell line: 1>\u001b[1;34m()\u001b[0m\n\u001b[1;32m----> <a href='vscode-notebook-cell:/c%3A/Users/kevja/OneDrive/Desktop/Repos/streamlit-example/EIA_oildataframes.ipynb#ch0000003?line=0'>1</a>\u001b[0m df_crude_oil\u001b[39m.\u001b[39;49msummary()\n",
      "File \u001b[1;32m~\\AppData\\Local\\Programs\\Python\\Python310\\lib\\site-packages\\pandas\\core\\generic.py:5583\u001b[0m, in \u001b[0;36mNDFrame.__getattr__\u001b[1;34m(self, name)\u001b[0m\n\u001b[0;32m   <a href='file:///c%3A/Users/kevja/AppData/Local/Programs/Python/Python310/lib/site-packages/pandas/core/generic.py?line=5575'>5576</a>\u001b[0m \u001b[39mif\u001b[39;00m (\n\u001b[0;32m   <a href='file:///c%3A/Users/kevja/AppData/Local/Programs/Python/Python310/lib/site-packages/pandas/core/generic.py?line=5576'>5577</a>\u001b[0m     name \u001b[39mnot\u001b[39;00m \u001b[39min\u001b[39;00m \u001b[39mself\u001b[39m\u001b[39m.\u001b[39m_internal_names_set\n\u001b[0;32m   <a href='file:///c%3A/Users/kevja/AppData/Local/Programs/Python/Python310/lib/site-packages/pandas/core/generic.py?line=5577'>5578</a>\u001b[0m     \u001b[39mand\u001b[39;00m name \u001b[39mnot\u001b[39;00m \u001b[39min\u001b[39;00m \u001b[39mself\u001b[39m\u001b[39m.\u001b[39m_metadata\n\u001b[0;32m   <a href='file:///c%3A/Users/kevja/AppData/Local/Programs/Python/Python310/lib/site-packages/pandas/core/generic.py?line=5578'>5579</a>\u001b[0m     \u001b[39mand\u001b[39;00m name \u001b[39mnot\u001b[39;00m \u001b[39min\u001b[39;00m \u001b[39mself\u001b[39m\u001b[39m.\u001b[39m_accessors\n\u001b[0;32m   <a href='file:///c%3A/Users/kevja/AppData/Local/Programs/Python/Python310/lib/site-packages/pandas/core/generic.py?line=5579'>5580</a>\u001b[0m     \u001b[39mand\u001b[39;00m \u001b[39mself\u001b[39m\u001b[39m.\u001b[39m_info_axis\u001b[39m.\u001b[39m_can_hold_identifiers_and_holds_name(name)\n\u001b[0;32m   <a href='file:///c%3A/Users/kevja/AppData/Local/Programs/Python/Python310/lib/site-packages/pandas/core/generic.py?line=5580'>5581</a>\u001b[0m ):\n\u001b[0;32m   <a href='file:///c%3A/Users/kevja/AppData/Local/Programs/Python/Python310/lib/site-packages/pandas/core/generic.py?line=5581'>5582</a>\u001b[0m     \u001b[39mreturn\u001b[39;00m \u001b[39mself\u001b[39m[name]\n\u001b[1;32m-> <a href='file:///c%3A/Users/kevja/AppData/Local/Programs/Python/Python310/lib/site-packages/pandas/core/generic.py?line=5582'>5583</a>\u001b[0m \u001b[39mreturn\u001b[39;00m \u001b[39mobject\u001b[39;49m\u001b[39m.\u001b[39;49m\u001b[39m__getattribute__\u001b[39;49m(\u001b[39mself\u001b[39;49m, name)\n",
      "\u001b[1;31mAttributeError\u001b[0m: 'DataFrame' object has no attribute 'summary'"
     ]
    }
   ],
   "source": [
    "df_crude_oil.summary()"
   ]
  },
  {
   "cell_type": "code",
   "execution_count": 19,
   "metadata": {},
   "outputs": [
    {
     "data": {
      "text/plain": [
       "4      1986-01-06\n",
       "5      1986-01-07\n",
       "6      1986-01-08\n",
       "7      1986-01-09\n",
       "8      1986-01-10\n",
       "          ...    \n",
       "9261   2022-03-08\n",
       "9262   2022-03-09\n",
       "9263   2022-03-10\n",
       "9264   2022-03-11\n",
       "9265   2022-03-14\n",
       "Name: date, Length: 9262, dtype: datetime64[ns]"
      ]
     },
     "execution_count": 19,
     "metadata": {},
     "output_type": "execute_result"
    }
   ],
   "source": [
    "df_crude_oil.date.astype(datetime64)"
   ]
  },
  {
   "cell_type": "code",
   "execution_count": 21,
   "metadata": {},
   "outputs": [
    {
     "ename": "TypeError",
     "evalue": "Object of type Timestamp is not JSON serializable",
     "output_type": "error",
     "traceback": [
      "\u001b[1;31m---------------------------------------------------------------------------\u001b[0m",
      "\u001b[1;31mTypeError\u001b[0m                                 Traceback (most recent call last)",
      "File \u001b[1;32m~\\AppData\\Local\\Programs\\Python\\Python310\\lib\\site-packages\\altair\\vegalite\\v4\\api.py:2020\u001b[0m, in \u001b[0;36mChart.to_dict\u001b[1;34m(self, *args, **kwargs)\u001b[0m\n\u001b[0;32m   <a href='file:///c%3A/Users/kevja/AppData/Local/Programs/Python/Python310/lib/site-packages/altair/vegalite/v4/api.py?line=2017'>2018</a>\u001b[0m     copy\u001b[39m.\u001b[39mdata \u001b[39m=\u001b[39m core\u001b[39m.\u001b[39mInlineData(values\u001b[39m=\u001b[39m[{}])\n\u001b[0;32m   <a href='file:///c%3A/Users/kevja/AppData/Local/Programs/Python/Python310/lib/site-packages/altair/vegalite/v4/api.py?line=2018'>2019</a>\u001b[0m     \u001b[39mreturn\u001b[39;00m \u001b[39msuper\u001b[39m(Chart, copy)\u001b[39m.\u001b[39mto_dict(\u001b[39m*\u001b[39margs, \u001b[39m*\u001b[39m\u001b[39m*\u001b[39mkwargs)\n\u001b[1;32m-> <a href='file:///c%3A/Users/kevja/AppData/Local/Programs/Python/Python310/lib/site-packages/altair/vegalite/v4/api.py?line=2019'>2020</a>\u001b[0m \u001b[39mreturn\u001b[39;00m \u001b[39msuper\u001b[39m()\u001b[39m.\u001b[39mto_dict(\u001b[39m*\u001b[39margs, \u001b[39m*\u001b[39m\u001b[39m*\u001b[39mkwargs)\n",
      "File \u001b[1;32m~\\AppData\\Local\\Programs\\Python\\Python310\\lib\\site-packages\\altair\\vegalite\\v4\\api.py:374\u001b[0m, in \u001b[0;36mTopLevelMixin.to_dict\u001b[1;34m(self, *args, **kwargs)\u001b[0m\n\u001b[0;32m    <a href='file:///c%3A/Users/kevja/AppData/Local/Programs/Python/Python310/lib/site-packages/altair/vegalite/v4/api.py?line=371'>372</a>\u001b[0m copy \u001b[39m=\u001b[39m \u001b[39mself\u001b[39m\u001b[39m.\u001b[39mcopy(deep\u001b[39m=\u001b[39m\u001b[39mFalse\u001b[39;00m)\n\u001b[0;32m    <a href='file:///c%3A/Users/kevja/AppData/Local/Programs/Python/Python310/lib/site-packages/altair/vegalite/v4/api.py?line=372'>373</a>\u001b[0m original_data \u001b[39m=\u001b[39m \u001b[39mgetattr\u001b[39m(copy, \u001b[39m\"\u001b[39m\u001b[39mdata\u001b[39m\u001b[39m\"\u001b[39m, Undefined)\n\u001b[1;32m--> <a href='file:///c%3A/Users/kevja/AppData/Local/Programs/Python/Python310/lib/site-packages/altair/vegalite/v4/api.py?line=373'>374</a>\u001b[0m copy\u001b[39m.\u001b[39mdata \u001b[39m=\u001b[39m _prepare_data(original_data, context)\n\u001b[0;32m    <a href='file:///c%3A/Users/kevja/AppData/Local/Programs/Python/Python310/lib/site-packages/altair/vegalite/v4/api.py?line=375'>376</a>\u001b[0m \u001b[39mif\u001b[39;00m original_data \u001b[39mis\u001b[39;00m \u001b[39mnot\u001b[39;00m Undefined:\n\u001b[0;32m    <a href='file:///c%3A/Users/kevja/AppData/Local/Programs/Python/Python310/lib/site-packages/altair/vegalite/v4/api.py?line=376'>377</a>\u001b[0m     context[\u001b[39m\"\u001b[39m\u001b[39mdata\u001b[39m\u001b[39m\"\u001b[39m] \u001b[39m=\u001b[39m original_data\n",
      "File \u001b[1;32m~\\AppData\\Local\\Programs\\Python\\Python310\\lib\\site-packages\\altair\\vegalite\\v4\\api.py:97\u001b[0m, in \u001b[0;36m_prepare_data\u001b[1;34m(data, context)\u001b[0m\n\u001b[0;32m     <a href='file:///c%3A/Users/kevja/AppData/Local/Programs/Python/Python310/lib/site-packages/altair/vegalite/v4/api.py?line=94'>95</a>\u001b[0m \u001b[39m# consolidate inline data to top-level datasets\u001b[39;00m\n\u001b[0;32m     <a href='file:///c%3A/Users/kevja/AppData/Local/Programs/Python/Python310/lib/site-packages/altair/vegalite/v4/api.py?line=95'>96</a>\u001b[0m \u001b[39mif\u001b[39;00m context \u001b[39mis\u001b[39;00m \u001b[39mnot\u001b[39;00m \u001b[39mNone\u001b[39;00m \u001b[39mand\u001b[39;00m data_transformers\u001b[39m.\u001b[39mconsolidate_datasets:\n\u001b[1;32m---> <a href='file:///c%3A/Users/kevja/AppData/Local/Programs/Python/Python310/lib/site-packages/altair/vegalite/v4/api.py?line=96'>97</a>\u001b[0m     data \u001b[39m=\u001b[39m _consolidate_data(data, context)\n\u001b[0;32m     <a href='file:///c%3A/Users/kevja/AppData/Local/Programs/Python/Python310/lib/site-packages/altair/vegalite/v4/api.py?line=98'>99</a>\u001b[0m \u001b[39m# if data is still not a recognized type, then return\u001b[39;00m\n\u001b[0;32m    <a href='file:///c%3A/Users/kevja/AppData/Local/Programs/Python/Python310/lib/site-packages/altair/vegalite/v4/api.py?line=99'>100</a>\u001b[0m \u001b[39mif\u001b[39;00m \u001b[39mnot\u001b[39;00m \u001b[39misinstance\u001b[39m(data, (\u001b[39mdict\u001b[39m, core\u001b[39m.\u001b[39mData)):\n",
      "File \u001b[1;32m~\\AppData\\Local\\Programs\\Python\\Python310\\lib\\site-packages\\altair\\vegalite\\v4\\api.py:64\u001b[0m, in \u001b[0;36m_consolidate_data\u001b[1;34m(data, context)\u001b[0m\n\u001b[0;32m     <a href='file:///c%3A/Users/kevja/AppData/Local/Programs/Python/Python310/lib/site-packages/altair/vegalite/v4/api.py?line=60'>61</a>\u001b[0m         kwds \u001b[39m=\u001b[39m {k: v \u001b[39mfor\u001b[39;00m k, v \u001b[39min\u001b[39;00m data\u001b[39m.\u001b[39mitems() \u001b[39mif\u001b[39;00m k \u001b[39m!=\u001b[39m \u001b[39m\"\u001b[39m\u001b[39mvalues\u001b[39m\u001b[39m\"\u001b[39m}\n\u001b[0;32m     <a href='file:///c%3A/Users/kevja/AppData/Local/Programs/Python/Python310/lib/site-packages/altair/vegalite/v4/api.py?line=62'>63</a>\u001b[0m \u001b[39mif\u001b[39;00m values \u001b[39mis\u001b[39;00m \u001b[39mnot\u001b[39;00m Undefined:\n\u001b[1;32m---> <a href='file:///c%3A/Users/kevja/AppData/Local/Programs/Python/Python310/lib/site-packages/altair/vegalite/v4/api.py?line=63'>64</a>\u001b[0m     name \u001b[39m=\u001b[39m _dataset_name(values)\n\u001b[0;32m     <a href='file:///c%3A/Users/kevja/AppData/Local/Programs/Python/Python310/lib/site-packages/altair/vegalite/v4/api.py?line=64'>65</a>\u001b[0m     data \u001b[39m=\u001b[39m core\u001b[39m.\u001b[39mNamedData(name\u001b[39m=\u001b[39mname, \u001b[39m*\u001b[39m\u001b[39m*\u001b[39mkwds)\n\u001b[0;32m     <a href='file:///c%3A/Users/kevja/AppData/Local/Programs/Python/Python310/lib/site-packages/altair/vegalite/v4/api.py?line=65'>66</a>\u001b[0m     context\u001b[39m.\u001b[39msetdefault(\u001b[39m\"\u001b[39m\u001b[39mdatasets\u001b[39m\u001b[39m\"\u001b[39m, {})[name] \u001b[39m=\u001b[39m values\n",
      "File \u001b[1;32m~\\AppData\\Local\\Programs\\Python\\Python310\\lib\\site-packages\\altair\\vegalite\\v4\\api.py:37\u001b[0m, in \u001b[0;36m_dataset_name\u001b[1;34m(values)\u001b[0m\n\u001b[0;32m     <a href='file:///c%3A/Users/kevja/AppData/Local/Programs/Python/Python310/lib/site-packages/altair/vegalite/v4/api.py?line=34'>35</a>\u001b[0m \u001b[39mif\u001b[39;00m values \u001b[39m==\u001b[39m [{}]:\n\u001b[0;32m     <a href='file:///c%3A/Users/kevja/AppData/Local/Programs/Python/Python310/lib/site-packages/altair/vegalite/v4/api.py?line=35'>36</a>\u001b[0m     \u001b[39mreturn\u001b[39;00m \u001b[39m\"\u001b[39m\u001b[39mempty\u001b[39m\u001b[39m\"\u001b[39m\n\u001b[1;32m---> <a href='file:///c%3A/Users/kevja/AppData/Local/Programs/Python/Python310/lib/site-packages/altair/vegalite/v4/api.py?line=36'>37</a>\u001b[0m values_json \u001b[39m=\u001b[39m json\u001b[39m.\u001b[39;49mdumps(values, sort_keys\u001b[39m=\u001b[39;49m\u001b[39mTrue\u001b[39;49;00m)\n\u001b[0;32m     <a href='file:///c%3A/Users/kevja/AppData/Local/Programs/Python/Python310/lib/site-packages/altair/vegalite/v4/api.py?line=37'>38</a>\u001b[0m hsh \u001b[39m=\u001b[39m hashlib\u001b[39m.\u001b[39mmd5(values_json\u001b[39m.\u001b[39mencode())\u001b[39m.\u001b[39mhexdigest()\n\u001b[0;32m     <a href='file:///c%3A/Users/kevja/AppData/Local/Programs/Python/Python310/lib/site-packages/altair/vegalite/v4/api.py?line=38'>39</a>\u001b[0m \u001b[39mreturn\u001b[39;00m \u001b[39m\"\u001b[39m\u001b[39mdata-\u001b[39m\u001b[39m\"\u001b[39m \u001b[39m+\u001b[39m hsh\n",
      "File \u001b[1;32m~\\AppData\\Local\\Programs\\Python\\Python310\\lib\\json\\__init__.py:238\u001b[0m, in \u001b[0;36mdumps\u001b[1;34m(obj, skipkeys, ensure_ascii, check_circular, allow_nan, cls, indent, separators, default, sort_keys, **kw)\u001b[0m\n\u001b[0;32m    <a href='file:///c%3A/Users/kevja/AppData/Local/Programs/Python/Python310/lib/json/__init__.py?line=231'>232</a>\u001b[0m \u001b[39mif\u001b[39;00m \u001b[39mcls\u001b[39m \u001b[39mis\u001b[39;00m \u001b[39mNone\u001b[39;00m:\n\u001b[0;32m    <a href='file:///c%3A/Users/kevja/AppData/Local/Programs/Python/Python310/lib/json/__init__.py?line=232'>233</a>\u001b[0m     \u001b[39mcls\u001b[39m \u001b[39m=\u001b[39m JSONEncoder\n\u001b[0;32m    <a href='file:///c%3A/Users/kevja/AppData/Local/Programs/Python/Python310/lib/json/__init__.py?line=233'>234</a>\u001b[0m \u001b[39mreturn\u001b[39;00m \u001b[39mcls\u001b[39;49m(\n\u001b[0;32m    <a href='file:///c%3A/Users/kevja/AppData/Local/Programs/Python/Python310/lib/json/__init__.py?line=234'>235</a>\u001b[0m     skipkeys\u001b[39m=\u001b[39;49mskipkeys, ensure_ascii\u001b[39m=\u001b[39;49mensure_ascii,\n\u001b[0;32m    <a href='file:///c%3A/Users/kevja/AppData/Local/Programs/Python/Python310/lib/json/__init__.py?line=235'>236</a>\u001b[0m     check_circular\u001b[39m=\u001b[39;49mcheck_circular, allow_nan\u001b[39m=\u001b[39;49mallow_nan, indent\u001b[39m=\u001b[39;49mindent,\n\u001b[0;32m    <a href='file:///c%3A/Users/kevja/AppData/Local/Programs/Python/Python310/lib/json/__init__.py?line=236'>237</a>\u001b[0m     separators\u001b[39m=\u001b[39;49mseparators, default\u001b[39m=\u001b[39;49mdefault, sort_keys\u001b[39m=\u001b[39;49msort_keys,\n\u001b[1;32m--> <a href='file:///c%3A/Users/kevja/AppData/Local/Programs/Python/Python310/lib/json/__init__.py?line=237'>238</a>\u001b[0m     \u001b[39m*\u001b[39;49m\u001b[39m*\u001b[39;49mkw)\u001b[39m.\u001b[39;49mencode(obj)\n",
      "File \u001b[1;32m~\\AppData\\Local\\Programs\\Python\\Python310\\lib\\json\\encoder.py:199\u001b[0m, in \u001b[0;36mJSONEncoder.encode\u001b[1;34m(self, o)\u001b[0m\n\u001b[0;32m    <a href='file:///c%3A/Users/kevja/AppData/Local/Programs/Python/Python310/lib/json/encoder.py?line=194'>195</a>\u001b[0m         \u001b[39mreturn\u001b[39;00m encode_basestring(o)\n\u001b[0;32m    <a href='file:///c%3A/Users/kevja/AppData/Local/Programs/Python/Python310/lib/json/encoder.py?line=195'>196</a>\u001b[0m \u001b[39m# This doesn't pass the iterator directly to ''.join() because the\u001b[39;00m\n\u001b[0;32m    <a href='file:///c%3A/Users/kevja/AppData/Local/Programs/Python/Python310/lib/json/encoder.py?line=196'>197</a>\u001b[0m \u001b[39m# exceptions aren't as detailed.  The list call should be roughly\u001b[39;00m\n\u001b[0;32m    <a href='file:///c%3A/Users/kevja/AppData/Local/Programs/Python/Python310/lib/json/encoder.py?line=197'>198</a>\u001b[0m \u001b[39m# equivalent to the PySequence_Fast that ''.join() would do.\u001b[39;00m\n\u001b[1;32m--> <a href='file:///c%3A/Users/kevja/AppData/Local/Programs/Python/Python310/lib/json/encoder.py?line=198'>199</a>\u001b[0m chunks \u001b[39m=\u001b[39m \u001b[39mself\u001b[39;49m\u001b[39m.\u001b[39;49miterencode(o, _one_shot\u001b[39m=\u001b[39;49m\u001b[39mTrue\u001b[39;49;00m)\n\u001b[0;32m    <a href='file:///c%3A/Users/kevja/AppData/Local/Programs/Python/Python310/lib/json/encoder.py?line=199'>200</a>\u001b[0m \u001b[39mif\u001b[39;00m \u001b[39mnot\u001b[39;00m \u001b[39misinstance\u001b[39m(chunks, (\u001b[39mlist\u001b[39m, \u001b[39mtuple\u001b[39m)):\n\u001b[0;32m    <a href='file:///c%3A/Users/kevja/AppData/Local/Programs/Python/Python310/lib/json/encoder.py?line=200'>201</a>\u001b[0m     chunks \u001b[39m=\u001b[39m \u001b[39mlist\u001b[39m(chunks)\n",
      "File \u001b[1;32m~\\AppData\\Local\\Programs\\Python\\Python310\\lib\\json\\encoder.py:257\u001b[0m, in \u001b[0;36mJSONEncoder.iterencode\u001b[1;34m(self, o, _one_shot)\u001b[0m\n\u001b[0;32m    <a href='file:///c%3A/Users/kevja/AppData/Local/Programs/Python/Python310/lib/json/encoder.py?line=251'>252</a>\u001b[0m \u001b[39melse\u001b[39;00m:\n\u001b[0;32m    <a href='file:///c%3A/Users/kevja/AppData/Local/Programs/Python/Python310/lib/json/encoder.py?line=252'>253</a>\u001b[0m     _iterencode \u001b[39m=\u001b[39m _make_iterencode(\n\u001b[0;32m    <a href='file:///c%3A/Users/kevja/AppData/Local/Programs/Python/Python310/lib/json/encoder.py?line=253'>254</a>\u001b[0m         markers, \u001b[39mself\u001b[39m\u001b[39m.\u001b[39mdefault, _encoder, \u001b[39mself\u001b[39m\u001b[39m.\u001b[39mindent, floatstr,\n\u001b[0;32m    <a href='file:///c%3A/Users/kevja/AppData/Local/Programs/Python/Python310/lib/json/encoder.py?line=254'>255</a>\u001b[0m         \u001b[39mself\u001b[39m\u001b[39m.\u001b[39mkey_separator, \u001b[39mself\u001b[39m\u001b[39m.\u001b[39mitem_separator, \u001b[39mself\u001b[39m\u001b[39m.\u001b[39msort_keys,\n\u001b[0;32m    <a href='file:///c%3A/Users/kevja/AppData/Local/Programs/Python/Python310/lib/json/encoder.py?line=255'>256</a>\u001b[0m         \u001b[39mself\u001b[39m\u001b[39m.\u001b[39mskipkeys, _one_shot)\n\u001b[1;32m--> <a href='file:///c%3A/Users/kevja/AppData/Local/Programs/Python/Python310/lib/json/encoder.py?line=256'>257</a>\u001b[0m \u001b[39mreturn\u001b[39;00m _iterencode(o, \u001b[39m0\u001b[39;49m)\n",
      "File \u001b[1;32m~\\AppData\\Local\\Programs\\Python\\Python310\\lib\\json\\encoder.py:179\u001b[0m, in \u001b[0;36mJSONEncoder.default\u001b[1;34m(self, o)\u001b[0m\n\u001b[0;32m    <a href='file:///c%3A/Users/kevja/AppData/Local/Programs/Python/Python310/lib/json/encoder.py?line=159'>160</a>\u001b[0m \u001b[39mdef\u001b[39;00m \u001b[39mdefault\u001b[39m(\u001b[39mself\u001b[39m, o):\n\u001b[0;32m    <a href='file:///c%3A/Users/kevja/AppData/Local/Programs/Python/Python310/lib/json/encoder.py?line=160'>161</a>\u001b[0m     \u001b[39m\"\"\"Implement this method in a subclass such that it returns\u001b[39;00m\n\u001b[0;32m    <a href='file:///c%3A/Users/kevja/AppData/Local/Programs/Python/Python310/lib/json/encoder.py?line=161'>162</a>\u001b[0m \u001b[39m    a serializable object for ``o``, or calls the base implementation\u001b[39;00m\n\u001b[0;32m    <a href='file:///c%3A/Users/kevja/AppData/Local/Programs/Python/Python310/lib/json/encoder.py?line=162'>163</a>\u001b[0m \u001b[39m    (to raise a ``TypeError``).\u001b[39;00m\n\u001b[1;32m   (...)\u001b[0m\n\u001b[0;32m    <a href='file:///c%3A/Users/kevja/AppData/Local/Programs/Python/Python310/lib/json/encoder.py?line=176'>177</a>\u001b[0m \n\u001b[0;32m    <a href='file:///c%3A/Users/kevja/AppData/Local/Programs/Python/Python310/lib/json/encoder.py?line=177'>178</a>\u001b[0m \u001b[39m    \"\"\"\u001b[39;00m\n\u001b[1;32m--> <a href='file:///c%3A/Users/kevja/AppData/Local/Programs/Python/Python310/lib/json/encoder.py?line=178'>179</a>\u001b[0m     \u001b[39mraise\u001b[39;00m \u001b[39mTypeError\u001b[39;00m(\u001b[39mf\u001b[39m\u001b[39m'\u001b[39m\u001b[39mObject of type \u001b[39m\u001b[39m{\u001b[39;00mo\u001b[39m.\u001b[39m\u001b[39m__class__\u001b[39m\u001b[39m.\u001b[39m\u001b[39m__name__\u001b[39m\u001b[39m}\u001b[39;00m\u001b[39m \u001b[39m\u001b[39m'\u001b[39m\n\u001b[0;32m    <a href='file:///c%3A/Users/kevja/AppData/Local/Programs/Python/Python310/lib/json/encoder.py?line=179'>180</a>\u001b[0m                     \u001b[39mf\u001b[39m\u001b[39m'\u001b[39m\u001b[39mis not JSON serializable\u001b[39m\u001b[39m'\u001b[39m)\n",
      "\u001b[1;31mTypeError\u001b[0m: Object of type Timestamp is not JSON serializable"
     ]
    },
    {
     "data": {
      "text/plain": [
       "alt.Chart(...)"
      ]
     },
     "execution_count": 21,
     "metadata": {},
     "output_type": "execute_result"
    }
   ],
   "source": [
    "import altair as alt\n",
    "\n",
    "\n",
    "source = data.stocks()\n",
    "\n",
    "alt.Chart(df_crude_oil.iloc[:100,:]).mark_line().encode(\n",
    "    x='date',\n",
    "    y='oil price $, US Cushing OK',\n",
    "    color='symbol',\n",
    "    strokeDash='symbol',\n",
    ")"
   ]
  },
  {
   "cell_type": "code",
   "execution_count": 8,
   "metadata": {},
   "outputs": [
    {
     "data": {
      "text/plain": [
       "datetime.date(2014, 7, 5)"
      ]
     },
     "execution_count": 8,
     "metadata": {},
     "output_type": "execute_result"
    }
   ],
   "source": [
    "import datetime\n",
    "years = -5\n",
    "days_per_year = 365.24\n",
    "hundred_years_later =  datetime.date(2019, 7, 6) + datetime.timedelta(days=(years*days_per_year))\n",
    "hundred_years_later"
   ]
  }
 ],
 "metadata": {
  "interpreter": {
   "hash": "50460a3bbdbc7959a94699104b689377ed7fd4006aa8c6cfd667122eb999b827"
  },
  "kernelspec": {
   "display_name": "Python 3.10.1 64-bit",
   "language": "python",
   "name": "python3"
  },
  "language_info": {
   "codemirror_mode": {
    "name": "ipython",
    "version": 3
   },
   "file_extension": ".py",
   "mimetype": "text/x-python",
   "name": "python",
   "nbconvert_exporter": "python",
   "pygments_lexer": "ipython3",
   "version": "3.10.1"
  },
  "orig_nbformat": 4
 },
 "nbformat": 4,
 "nbformat_minor": 2
}
